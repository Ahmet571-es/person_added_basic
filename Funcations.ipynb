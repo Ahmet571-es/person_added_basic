{
 "cells": [
  {
   "cell_type": "code",
   "execution_count": 60,
   "metadata": {},
   "outputs": [],
   "source": [
    "def person_added():\n",
    "    def person_tc():\n",
    "        tc=input(\"Tc kimlik numaranızı giriniz = \")\n",
    "        tc_list=[]\n",
    "        tc_okey=True\n",
    "        for i in range(0,1):\n",
    "            if len(tc)!=11:\n",
    "                print(\"Karakter sayısı 11 olmalıdır.\")\n",
    "                break\n",
    "            elif len(tc)==11:\n",
    "                if not tc.isdigit():\n",
    "                    print(\"Karakterler rakam olmalıdır...\")\n",
    "                    break\n",
    "                elif tc.isdigit():\n",
    "                    if int(tc[0])==0:\n",
    "                        print(\"İlk rakam 0 olamaz...\")\n",
    "                        break\n",
    "                    elif int(tc[0])!=0:\n",
    "                        for i in tc:\n",
    "                            tc_list.append(int(i))\n",
    "                        if sum(tc_list[0:10])%10!=tc_list[10]:\n",
    "                            print(\"Tc Numaranızda dizim hatası var...\")\n",
    "                            break\n",
    "                        elif sum(tc_list[0:10])%10==tc_list[10]:\n",
    "                            a= 7*(sum(tc_list[0:9:2]))\n",
    "                            b= sum(tc_list[1:8:2])\n",
    "                            c = (a-b)%10\n",
    "                            if c!=tc_list[9]:\n",
    "                                print(\"Tc numaranızda hata var. Rakam dizinleri yanlış \")\n",
    "                                break\n",
    "                            elif c==tc_list[9]:\n",
    "                                print(\"Tc numaranızı doğru girdiniz...\")\n",
    "                                def person_name():\n",
    "                                    name=input(\"Personel adını giriniz : \")\n",
    "                                    surname = input(\"Personel soyadını giriniz : \")\n",
    "                                    age = int(input(\"Personel yaşını giriniz : \"))\n",
    "                                    adress=input(\"Personel iakmetgah adresi giriniz : \")\n",
    "                                    print(f\"Personel adı={name}, personel soyadı={surname}, personel yaşı={age}\")\n",
    "                                    print(f\"Personel tc kimlik numarası = {tc}\")\n",
    "                                    print(f\"Personel ikametgah adresi = {adress}\")\n",
    "                                person_name()    \n",
    " \n",
    "                                       \n",
    "    person_tc()\n",
    "    \n",
    "       \n",
    "                                    "
   ]
  },
  {
   "cell_type": "code",
   "execution_count": null,
   "metadata": {},
   "outputs": [],
   "source": []
  },
  {
   "cell_type": "code",
   "execution_count": null,
   "metadata": {},
   "outputs": [],
   "source": []
  },
  {
   "cell_type": "code",
   "execution_count": 56,
   "metadata": {},
   "outputs": [],
   "source": []
  },
  {
   "cell_type": "code",
   "execution_count": null,
   "metadata": {},
   "outputs": [],
   "source": []
  },
  {
   "cell_type": "code",
   "execution_count": null,
   "metadata": {},
   "outputs": [],
   "source": []
  },
  {
   "cell_type": "code",
   "execution_count": null,
   "metadata": {},
   "outputs": [],
   "source": []
  },
  {
   "cell_type": "code",
   "execution_count": null,
   "metadata": {},
   "outputs": [],
   "source": []
  }
 ],
 "metadata": {
  "kernelspec": {
   "display_name": "Python 3",
   "language": "python",
   "name": "python3"
  },
  "language_info": {
   "codemirror_mode": {
    "name": "ipython",
    "version": 3
   },
   "file_extension": ".py",
   "mimetype": "text/x-python",
   "name": "python",
   "nbconvert_exporter": "python",
   "pygments_lexer": "ipython3",
   "version": "3.8.5"
  }
 },
 "nbformat": 4,
 "nbformat_minor": 4
}
